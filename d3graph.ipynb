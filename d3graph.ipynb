{
  "cells": [
    {
      "cell_type": "raw",
      "metadata": {},
      "source": [
        "---\n",
        "title: \"Interactive Manuscript Map\"\n",
        "format: html\n",
        "---"
      ],
      "id": "a07f94b1"
    },
    {
      "cell_type": "markdown",
      "metadata": {},
      "source": [
        "# Interactive Graph with Cities\n",
        "\n",
        "```{html}\n",
        "<!-- Embed the D3.js visualization -->\n",
        "<style>\n",
        "  * {\n",
        "    font-family: sans-serif;\n",
        "  }\n",
        "  .tooltip {\n",
        "    position: absolute;\n",
        "    background: white;\n",
        "    padding: 5px;\n",
        "    border: 1px solid lightgray;\n",
        "    border-radius: 4px;\n",
        "    pointer-events: none;\n",
        "    font-size: 12px;\n",
        "    opacity: 0;\n",
        "  }\n",
        "  #countrySelect {\n",
        "    margin-bottom: 10px;\n",
        "    font-size: 16px;\n",
        "    padding: 5px;\n",
        "  }\n",
        "</style>\n",
        "\n",
        "<!-- Dropdown Menu and Map Container -->\n",
        "<div id=\"plot\">\n",
        "  <label for=\"countrySelect\">Select a Country:</label>\n",
        "  <select id=\"countrySelect\">\n",
        "    <option value=\"All\" selected>All Countries</option>\n",
        "  </select>\n",
        "</div>\n",
        "\n",
        "<!-- Load Required Libraries -->\n",
        "<script src=\"https://cdn.jsdelivr.net/npm/d3@7\"></script>\n",
        "<script src=\"https://cdn.jsdelivr.net/npm/topojson@3\"></script>\n",
        "\n",
        "<!-- Load the Custom Script -->\n",
        "<script src=\"scripts/myscript.js\"></script>"
      ],
      "id": "6b9108b3"
    }
  ],
  "metadata": {
    "kernelspec": {
      "display_name": "Python 3",
      "language": "python",
      "name": "python3"
    }
  },
  "nbformat": 4,
  "nbformat_minor": 5
}